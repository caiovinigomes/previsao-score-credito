{
 "cells": [
  {
   "cell_type": "markdown",
   "metadata": {},
   "source": [
    "# Projeto Python IA: Inteligência Artificial e Previsões\n",
    "\n",
    "### Previsão de Score de Crédito de Clientes\n",
    "\n",
    "Este projeto tem como objetivo principal a construção e aplicação de um modelo de Machine Learning para prever o score de crédito de clientes. Através da análise de um conjunto de dados (clientes.csv), o modelo é treinado para classificar o score de crédito em três categorias: \"Ruim\", \"Ok\" ou \"Bom\", com base nas informações fornecidas por cada cliente."
   ]
  },
  {
   "cell_type": "markdown",
   "metadata": {},
   "source": [
    "### Configuração Inicial e Instalação de Bibliotecas\n",
    "\n",
    "Esta seção é dedicada à preparação do ambiente, garantindo que todas as bibliotecas Python necessárias para a execução do projeto estejam instaladas. As bibliotecas pandas são essenciais para a manipulação e análise de dados, enquanto scikit-learn fornece as ferramentas para a construção e avaliação dos modelos de Machine Learning."
   ]
  },
  {
   "cell_type": "code",
   "execution_count": null,
   "metadata": {},
   "outputs": [],
   "source": [
    "# instalando bibliotecas\n",
    "#!pip install jupyter\n",
    "#!pip install pandas scikit-learn"
   ]
  },
  {
   "cell_type": "markdown",
   "metadata": {},
   "source": [
    "### Importação e Exploração Inicial dos Dados\n",
    "\n",
    "Nesta etapa, a base de dados dos clientes (clientes.csv) é carregada para um DataFrame do pandas. Em seguida, é realizada uma exibição das primeiras linhas do DataFrame para uma visualização rápida da estrutura dos dados, permitindo entender as colunas disponíveis e o formato inicial das informações."
   ]
  },
  {
   "cell_type": "code",
   "execution_count": null,
   "metadata": {},
   "outputs": [],
   "source": [
    "# Passo 1: Importar a base de dados\n",
    "import pandas as pd\n",
    "tabela = pd.read_csv(\"clientes.csv\")\n",
    "display(tabela)"
   ]
  },
  {
   "cell_type": "markdown",
   "metadata": {},
   "source": [
    "### Pré-processamento e Estrutura dos Dados\n",
    "\n",
    "Esta fase é crucial para preparar os dados para o treinamento do modelo de Machine Learning. Primeiramente, é exibido um resumo da estrutura dos dados (tabela.info()), que detalha os tipos de variáveis em cada coluna e a presença de valores nulos.\n",
    "\n",
    "Em seguida, as colunas não numéricas (\"profissao\", \"mix_credito\", \"comportamento_pagamento\") são convertidas para um formato numérico utilizando o LabelEncoder da biblioteca sklearn.preprocessing. Esta conversão é fundamental, pois a maioria dos algoritmos de Machine Learning requer entradas numéricas. Após a transformação, um novo resumo da estrutura dos dados é exibido para confirmar que todas as colunas, exceto a variável alvo \"score_credito\", estão agora em formato numérico."
   ]
  },
  {
   "cell_type": "code",
   "execution_count": null,
   "metadata": {},
   "outputs": [],
   "source": [
    "# Passo 2: Preparar a base para Inteligência Artificial\n",
    "display(tabela.info())\n",
    "\n",
    "# Necessário deixar todas as colunas com formato numérico, exceto a coluna 'score_credito' - utilizaremos LabelEncoder\n",
    "from sklearn.preprocessing import LabelEncoder\n",
    "\n",
    "# Comecando pela coluna Profissao\n",
    "codificador_profissao = LabelEncoder()\n",
    "tabela[\"profissao\"] = codificador_profissao.fit_transform(tabela[\"profissao\"])\n",
    "\n",
    "# Coluna Mix_credito\n",
    "codificador_credito = LabelEncoder()\n",
    "tabela[\"mix_credito\"] = codificador_credito.fit_transform(tabela[\"mix_credito\"])\n",
    "\n",
    "# Coluna Comportamento_pagamento\n",
    "codificador_pagamento = LabelEncoder()\n",
    "tabela[\"comportamento_pagamento\"] = codificador_pagamento.fit_transform(tabela[\"comportamento_pagamento\"])\n",
    "\n",
    "display(tabela.info())"
   ]
  },
  {
   "cell_type": "markdown",
   "metadata": {},
   "source": [
    "### Divisão dos Dados em Treinamento e Teste\n",
    "\n",
    "Nesta etapa, a base de dados é dividida em conjuntos de treinamento e teste. A variável 'y' é definida como a coluna que se deseja prever (\"score_credito\"), enquanto 'x' compreende todas as outras colunas que serão usadas como características para a previsão, excluindo também a coluna \"id_cliente\" por não ser relevante para o treinamento do modelo.\n",
    "\n",
    "A função train_test_split do sklearn.model_selection é utilizada para realizar essa divisão, reservando 30% dos dados para teste (test_size=0.3), o que permite avaliar a performance do modelo em dados que ele nunca viu durante o treinamento."
   ]
  },
  {
   "cell_type": "code",
   "execution_count": null,
   "metadata": {},
   "outputs": [],
   "source": [
    "# Passo 3: Separar a base em duas\n",
    "# Onde Y é a coluna que eu quero prever 'score_credito'\n",
    "y = tabela[\"score_credito\"]\n",
    "\n",
    "# X será todas as demais colunas que utilizaremos para fazer a previsão\n",
    "x = tabela.drop(columns=[\"score_credito\",\"id_cliente\"])\n",
    "\n",
    "# Separando em dados de treino e dados de teste\n",
    "from sklearn.model_selection import train_test_split\n",
    "\n",
    "x_treino, x_teste, y_treino, y_teste = train_test_split(x,y,test_size=0.3)"
   ]
  },
  {
   "cell_type": "markdown",
   "metadata": {},
   "source": [
    "### Treinamento dos Modelos de Inteligência Artificial\n",
    "\n",
    "Aqui, dois modelos de classificação são instanciados: RandomForestClassifier (Árvore de Decisão) e KNeighborsClassifier (Vizinhos Próximos - KNN). Ambos os modelos são importados de sklearn.ensemble e sklearn.neighbors, respectivamente.\n",
    "\n",
    "Em seguida, cada modelo é treinado utilizando os dados de treinamento (x_treino e y_treino). O processo de fit permite que os modelos aprendam os padrões e relacionamentos presentes nos dados, preparando-os para fazer previsões."
   ]
  },
  {
   "cell_type": "code",
   "execution_count": null,
   "metadata": {},
   "outputs": [],
   "source": [
    "# Passo 4: Treinar a Inteligência Artificial\n",
    "\n",
    "# Criando modelo\n",
    "# Arvore de decisao - RandowForest\n",
    "# Vizinhos proximos - Nearest Neighbors (KNN)\n",
    "\n",
    "# Importar IA \n",
    "from sklearn.ensemble import RandomForestClassifier\n",
    "from sklearn.neighbors import KNeighborsClassifier\n",
    "\n",
    "# Criar IA\n",
    "modelo_arvoredecisao = RandomForestClassifier()\n",
    "modelo_vizinhosproximos = KNeighborsClassifier()\n",
    "\n",
    "# Treinando IA\n",
    "modelo_arvoredecisao.fit(x_treino,y_treino)\n",
    "modelo_vizinhosproximos.fit(x_treino,y_treino)\n",
    "\n"
   ]
  },
  {
   "cell_type": "markdown",
   "metadata": {},
   "source": [
    "### Avaliação e Escolha do Melhor Modelo\n",
    "\n",
    "Nesta etapa, os modelos treinados são utilizados para fazer previsões nos dados de teste (x_teste). As previsões de ambos os modelos (previsao_arvoredecisao e previsao_vizinhosproximos) são então comparadas com os valores reais (y_teste) para calcular a acurácia.\n",
    "\n",
    "A accuracy_score do sklearn.metrics é usada para determinar a proporção de previsões corretas. A exibição das acurácias permite identificar qual dos modelos performou melhor no conjunto de teste, indicando o modelo mais adequado para futuras previsões. Nesse contexto, o RandomForestClassifier obteve uma acurácia maior (0.8229) comparado ao KNeighborsClassifier (0.7368), sendo, portanto, o modelo escolhido para a próxima fase."
   ]
  },
  {
   "cell_type": "code",
   "execution_count": null,
   "metadata": {},
   "outputs": [],
   "source": [
    "# Passo 5: Escolher o melhor modelo\n",
    "previsao_arvoredecisao = modelo_arvoredecisao.predict(x_teste)\n",
    "previsao_vizinhosproximos = modelo_vizinhosproximos.predict(x_teste)\n",
    "\n",
    "# Medindo accuracy\n",
    "from sklearn.metrics import accuracy_score\n",
    "display(accuracy_score(y_teste,previsao_arvoredecisao))\n",
    "display(accuracy_score(y_teste,previsao_vizinhosproximos))"
   ]
  },
  {
   "cell_type": "markdown",
   "metadata": {},
   "source": [
    "### Previsão para Novos Clientes\n",
    "\n",
    "Finalmente, o modelo com melhor desempenho (modelo_arvoredecisao) é aplicado para prever o score de crédito de um novo conjunto de clientes, carregado do arquivo novos_clientes.csv.\n",
    "\n",
    "Similar à etapa de pré-processamento dos dados de treinamento, as colunas categóricas (\"profissao\", \"mix_credito\", \"comportamento_pagamento\") na tabela de novos clientes são transformadas usando os mesmos LabelEncoders que foram fitados nos dados de treinamento. Isso garante consistência nas transformações.\n",
    "\n",
    "Após o pré-processamento, o modelo realiza a previsão (nova_previsao), e o resultado é adicionado como uma nova coluna (\"score_credito\") na tabela de novos clientes, demonstrando a aplicação prática do modelo."
   ]
  },
  {
   "cell_type": "code",
   "execution_count": null,
   "metadata": {},
   "outputs": [],
   "source": [
    "# Passo 6: Usar o melhor modelo para fazer a previsão de novos clientes\n",
    "# Importar os novos clientes para fazer a previsão\n",
    "\n",
    "tabela_novos_clientes = pd.read_csv(\"novos_clientes.csv\")\n",
    "\n",
    "# Necessario tratamento de dados LabelEncoder para utilização do modelo\n",
    "\n",
    "# Comecando pela coluna Profissao\n",
    "tabela_novos_clientes[\"profissao\"] = codificador_profissao.fit_transform(tabela_novos_clientes[\"profissao\"])\n",
    "\n",
    "# Coluna Mix_credito\n",
    "tabela_novos_clientes[\"mix_credito\"] = codificador_credito.fit_transform(tabela_novos_clientes[\"mix_credito\"])\n",
    "\n",
    "# Coluna Comportamento_pagamento\n",
    "tabela_novos_clientes[\"comportamento_pagamento\"] = codificador_pagamento.fit_transform(tabela_novos_clientes[\"comportamento_pagamento\"])\n",
    "\n",
    "display(tabela_novos_clientes)\n",
    "\n",
    "nova_previsao = modelo_arvoredecisao.predict(tabela_novos_clientes)\n",
    "display(nova_previsao)\n",
    "\n",
    "# Adicionando a coluna score_credito com o resultado da previsao do melhor modelo na tabela\n",
    "tabela_novos_clientes[\"score_credito\"] = nova_previsao\n",
    "\n",
    "display(tabela_novos_clientes)\n"
   ]
  }
 ],
 "metadata": {
  "kernelspec": {
   "display_name": "Python 3",
   "language": "python",
   "name": "python3"
  },
  "language_info": {
   "codemirror_mode": {
    "name": "ipython",
    "version": 3
   },
   "file_extension": ".py",
   "mimetype": "text/x-python",
   "name": "python",
   "nbconvert_exporter": "python",
   "pygments_lexer": "ipython3",
   "version": "3.12.6"
  }
 },
 "nbformat": 4,
 "nbformat_minor": 2
}
